{
  "nbformat": 4,
  "nbformat_minor": 0,
  "metadata": {
    "colab": {
      "provenance": []
    },
    "kernelspec": {
      "name": "python3",
      "display_name": "Python 3"
    },
    "language_info": {
      "name": "python"
    }
  },
  "cells": [
    {
      "cell_type": "code",
      "execution_count": null,
      "metadata": {
        "id": "wBWrBu7GJqIW"
      },
      "outputs": [],
      "source": [
        "!pip install -q pytorch-tabnet scikit-learn pandas\n",
        "\n",
        "import pandas as pd\n",
        "import numpy as np\n",
        "from sklearn.model_selection import train_test_split\n",
        "from sklearn.preprocessing import LabelEncoder\n",
        "from sklearn.ensemble import RandomForestClassifier\n",
        "from sklearn.metrics import accuracy_score, classification_report\n",
        "from pytorch_tabnet.tab_model import TabNetClassifier\n",
        "import torch\n",
        "\n",
        "np.random.seed(42)\n",
        "num_samples = 500\n",
        "df = pd.DataFrame({\n",
        "    \"src_port\": np.random.randint(1000, 65535, size=num_samples),\n",
        "    \"dst_port\": np.random.randint(20, 1024, size=num_samples),\n",
        "    \"proto\": np.random.choice([6, 17], size=num_samples),\n",
        "    \"pkt_len\": np.random.randint(64, 1500, size=num_samples),\n",
        "    \"ttl\": np.random.randint(1, 255, size=num_samples),\n",
        "    \"flag\": np.random.choice([\"SYN\", \"ACK\", \"FIN\", \"PSH\"], size=num_samples),\n",
        "    \"label\": np.random.choice([\"normal\", \"intrusion\"], size=num_samples)\n",
        "})\n",
        "\n",
        "label_enc = LabelEncoder()\n",
        "df[\"flag_enc\"] = label_enc.fit_transform(df[\"flag\"])\n",
        "df[\"label_enc\"] = label_enc.fit_transform(df[\"label\"])\n",
        "df.drop(columns=[\"flag\", \"label\"], inplace=True)\n",
        "\n",
        "X = df.drop(\"label_enc\", axis=1).values\n",
        "y = df[\"label_enc\"].values\n",
        "\n",
        "X_train, X_test, y_train, y_test = train_test_split(X, y, test_size=0.2, random_state=42)\n",
        "\n",
        "rf = RandomForestClassifier()\n",
        "rf.fit(X_train, y_train)\n",
        "y_pred = rf.predict(X_test)\n",
        "print(\" Random Forest Accuracy:\", accuracy_score(y_test, y_pred))\n",
        "\n",
        "clf = TabNetClassifier()\n",
        "clf.fit(\n",
        "    X_train, y_train,\n",
        "    eval_set=[(X_test, y_test)],\n",
        "    eval_name=[\"val\"],\n",
        "    eval_metric=[\"accuracy\"],\n",
        "    max_epochs=10,\n",
        "    patience=5,\n",
        "    batch_size=32,\n",
        "    virtual_batch_size=16,\n",
        "    num_workers=0\n",
        ")\n",
        "\n",
        "tabnet_preds = clf.predict(X_test)\n",
        "\n",
        "if hasattr(y_test, 'values'):\n",
        "    y_test = y_test.values.ravel()\n",
        "\n",
        "print(\" Predictions ready!\")\n",
        "print(\" Shape of predictions:\", tabnet_preds.shape)\n",
        "print(\" Shape of y_test:\", y_test.shape)\n",
        "\n",
        "print(\" TabNet Accuracy:\", accuracy_score(y_test, tabnet_preds))\n",
        "print(classification_report(y_test, tabnet_preds, target_names=[\"normal\", \"intrusion\"]))\n"
      ]
    }
  ]
}